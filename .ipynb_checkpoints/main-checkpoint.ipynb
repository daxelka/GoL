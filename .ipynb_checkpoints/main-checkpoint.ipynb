{
 "cells": [
  {
   "cell_type": "code",
   "execution_count": 1,
   "id": "protective-roman",
   "metadata": {},
   "outputs": [],
   "source": [
    "import networkx as nx\n",
    "import numpy as np\n",
    "import matplotlib.pyplot as plt\n",
    "# import graph_tools"
   ]
  },
  {
   "cell_type": "code",
   "execution_count": 2,
   "id": "miniature-livestock",
   "metadata": {},
   "outputs": [
    {
     "ename": "TypeError",
     "evalue": "concatenate() got multiple values for argument 'axis'",
     "output_type": "error",
     "traceback": [
      "\u001b[0;31m---------------------------------------------------------------------------\u001b[0m",
      "\u001b[0;31mTypeError\u001b[0m                                 Traceback (most recent call last)",
      "\u001b[0;32m<ipython-input-2-b2790688324f>\u001b[0m in \u001b[0;36m<module>\u001b[0;34m\u001b[0m\n\u001b[1;32m     10\u001b[0m \u001b[0;34m\u001b[0m\u001b[0m\n\u001b[1;32m     11\u001b[0m \u001b[0mnumber_opiniated\u001b[0m \u001b[0;34m=\u001b[0m \u001b[0;36m3\u001b[0m\u001b[0;34m\u001b[0m\u001b[0m\n\u001b[0;32m---> 12\u001b[0;31m \u001b[0mopinion\u001b[0m \u001b[0;34m=\u001b[0m \u001b[0mrandonly_seeded_opinion\u001b[0m\u001b[0;34m(\u001b[0m\u001b[0mnumber_opiniated\u001b[0m\u001b[0;34m,\u001b[0m \u001b[0mnetwork_size\u001b[0m\u001b[0;34m)\u001b[0m\u001b[0;34m\u001b[0m\u001b[0m\n\u001b[0m\u001b[1;32m     13\u001b[0m \u001b[0mprint\u001b[0m\u001b[0;34m(\u001b[0m\u001b[0mopinion\u001b[0m\u001b[0;34m)\u001b[0m\u001b[0;34m\u001b[0m\u001b[0m\n\u001b[1;32m     14\u001b[0m \u001b[0;34m\u001b[0m\u001b[0m\n",
      "\u001b[0;32m<ipython-input-2-b2790688324f>\u001b[0m in \u001b[0;36mrandonly_seeded_opinion\u001b[0;34m(number_opiniated, network_size)\u001b[0m\n\u001b[1;32m      7\u001b[0m     \u001b[0mopiniated\u001b[0m \u001b[0;34m=\u001b[0m \u001b[0mnp\u001b[0m\u001b[0;34m.\u001b[0m\u001b[0mones\u001b[0m\u001b[0;34m(\u001b[0m\u001b[0;34m(\u001b[0m\u001b[0mnumber_opiniated\u001b[0m\u001b[0;34m,\u001b[0m\u001b[0;34m)\u001b[0m\u001b[0;34m,\u001b[0m \u001b[0mdtype\u001b[0m\u001b[0;34m=\u001b[0m\u001b[0mint\u001b[0m\u001b[0;34m)\u001b[0m\u001b[0;34m\u001b[0m\u001b[0m\n\u001b[1;32m      8\u001b[0m     \u001b[0mneutral\u001b[0m \u001b[0;34m=\u001b[0m \u001b[0mnp\u001b[0m\u001b[0;34m.\u001b[0m\u001b[0mzeros\u001b[0m\u001b[0;34m(\u001b[0m\u001b[0;34m(\u001b[0m\u001b[0mnetwork_size\u001b[0m \u001b[0;34m-\u001b[0m \u001b[0mnumber_opiniated\u001b[0m\u001b[0;34m,\u001b[0m\u001b[0;34m)\u001b[0m\u001b[0;34m,\u001b[0m \u001b[0mdtype\u001b[0m\u001b[0;34m=\u001b[0m\u001b[0mint\u001b[0m\u001b[0;34m)\u001b[0m\u001b[0;34m\u001b[0m\u001b[0m\n\u001b[0;32m----> 9\u001b[0;31m     \u001b[0;32mreturn\u001b[0m \u001b[0mnp\u001b[0m\u001b[0;34m.\u001b[0m\u001b[0mrandom\u001b[0m\u001b[0;34m.\u001b[0m\u001b[0mpermutation\u001b[0m\u001b[0;34m(\u001b[0m\u001b[0mnp\u001b[0m\u001b[0;34m.\u001b[0m\u001b[0mconcatenate\u001b[0m\u001b[0;34m(\u001b[0m\u001b[0mopiniated\u001b[0m\u001b[0;34m,\u001b[0m \u001b[0mneutral\u001b[0m\u001b[0;34m,\u001b[0m \u001b[0maxis\u001b[0m\u001b[0;34m=\u001b[0m\u001b[0;36m0\u001b[0m\u001b[0;34m)\u001b[0m\u001b[0;34m)\u001b[0m\u001b[0;34m\u001b[0m\u001b[0m\n\u001b[0m\u001b[1;32m     10\u001b[0m \u001b[0;34m\u001b[0m\u001b[0m\n\u001b[1;32m     11\u001b[0m \u001b[0mnumber_opiniated\u001b[0m \u001b[0;34m=\u001b[0m \u001b[0;36m3\u001b[0m\u001b[0;34m\u001b[0m\u001b[0m\n",
      "\u001b[0;32m<__array_function__ internals>\u001b[0m in \u001b[0;36mconcatenate\u001b[0;34m(*args, **kwargs)\u001b[0m\n",
      "\u001b[0;31mTypeError\u001b[0m: concatenate() got multiple values for argument 'axis'"
     ]
    }
   ],
   "source": [
    "network_size  = 10\n",
    "# Network selection\n",
    "G = nx.watts_strogatz_graph(n=network_size, k=4, p=0.3) # p=1 -> all-to-all connectivity\n",
    "\n",
    "# Opinion initial conditions\n",
    "def randonly_seeded_opinion(number_opiniated, network_size):\n",
    "    opiniated = np.ones((number_opiniated,), dtype=int)\n",
    "    neutral = np.zeros((network_size - number_opiniated,), dtype=int)\n",
    "    return np.random.permutation(np.concatenate((opiniated, neutral), axis=0))\n",
    "\n",
    "number_opiniated = 3\n",
    "opinion = randonly_seeded_opinion(number_opiniated, network_size)\n",
    "print(opinion)\n",
    "\n",
    "def colors(o):\n",
    "    result = []\n",
    "    for item in o:\n",
    "        if item == 1:\n",
    "            result.append('red')\n",
    "        else:\n",
    "            result.append('blue')\n",
    "    return result\n",
    "\n",
    "nx.draw(G, node_color = colors(opinion), with_labels=True, font_weight='bold')\n",
    "plt.show()"
   ]
  },
  {
   "cell_type": "code",
   "execution_count": null,
   "id": "cathedral-silly",
   "metadata": {},
   "outputs": [],
   "source": [
    "A = nx.adjacency_matrix(G)"
   ]
  },
  {
   "cell_type": "code",
   "execution_count": null,
   "id": "cosmetic-british",
   "metadata": {},
   "outputs": [],
   "source": [
    "def step(A, o, threshold):\n",
    "    alive_neighbours = A.dot(o)\n",
    "    new_opinion = 1*(alive_neighbours >= threshold)\n",
    "    opinion = np.maximum(o, new_opinion)\n",
    "    return opinion\n",
    "\n",
    "threshold = 2"
   ]
  },
  {
   "cell_type": "code",
   "execution_count": null,
   "id": "buried-submission",
   "metadata": {},
   "outputs": [],
   "source": [
    "number_steps = 3\n",
    "\n",
    "def iteration(A, v, threshold, number_steps):\n",
    "    for i in range(0,number_steps):\n",
    "        v_new = step(A, v,threshold)\n",
    "        v = v_new\n",
    "        print(v_new)\n",
    "        nx.draw(G, node_color = colors(v_new), with_labels=True, font_weight='bold')\n",
    "        plt.show()\n",
    "        \n",
    "iteration(A, opinion, threshold, number_steps)  "
   ]
  },
  {
   "cell_type": "code",
   "execution_count": null,
   "id": "north-royal",
   "metadata": {},
   "outputs": [],
   "source": [
    "print(opinion)"
   ]
  }
 ],
 "metadata": {
  "kernelspec": {
   "display_name": "Python 3",
   "language": "python",
   "name": "python3"
  },
  "language_info": {
   "codemirror_mode": {
    "name": "ipython",
    "version": 3
   },
   "file_extension": ".py",
   "mimetype": "text/x-python",
   "name": "python",
   "nbconvert_exporter": "python",
   "pygments_lexer": "ipython3",
   "version": "3.7.0"
  }
 },
 "nbformat": 4,
 "nbformat_minor": 5
}
